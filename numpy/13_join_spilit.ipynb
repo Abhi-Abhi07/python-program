{
 "cells": [
  {
   "cell_type": "markdown",
   "id": "63219da9-6c22-4f80-85fd-ce1df0a24879",
   "metadata": {},
   "source": [
    "**Join**"
   ]
  },
  {
   "cell_type": "code",
   "execution_count": 1,
   "id": "0fb6afc3-0967-4a87-8a9e-bd6f6331fb08",
   "metadata": {},
   "outputs": [
    {
     "name": "stdout",
     "output_type": "stream",
     "text": [
      "[1 2 3 4 5 6]\n"
     ]
    }
   ],
   "source": [
    "import numpy as np\n",
    "arr=np.array([1,2,3])\n",
    "arr2=np.array([4,5,6])\n",
    "join=np.concatenate((arr,arr2))\n",
    "# join=np.concatenate((arr,arr2),axis=0)\n",
    "# join=np.concatenate((arr,arr2),axis=1) # show error\n",
    "print(join)\n"
   ]
  },
  {
   "cell_type": "code",
   "execution_count": 2,
   "id": "02d62b43-4a09-40e4-b082-3f3d7c2ef972",
   "metadata": {},
   "outputs": [
    {
     "name": "stdout",
     "output_type": "stream",
     "text": [
      "[[1 2]\n",
      " [3 4]\n",
      " [5 6]\n",
      " [7 8]]\n"
     ]
    }
   ],
   "source": [
    "ar=np.array([[1,2],[3,4]])\n",
    "ar2=np.array([[5,6],[7,8]])\n",
    "join2=np.concatenate((ar,ar2))\n",
    "# join2=np.concatenate((ar,ar2),axis=0) #col wise\n",
    "# join2=np.concatenate((ar,ar2),axis=1) # wow wise\n",
    "print(join2)"
   ]
  },
  {
   "cell_type": "code",
   "execution_count": 3,
   "id": "7b9cd594-74a3-415b-b28d-8ecd58b3f51f",
   "metadata": {},
   "outputs": [
    {
     "name": "stdout",
     "output_type": "stream",
     "text": [
      "[[[1 2 3]\n",
      "  [1 2 3]]\n",
      "\n",
      " [[4 5 6]\n",
      "  [4 5 6]]]\n",
      "\n",
      "[[[1 2 3]\n",
      "  [1 2 3]]\n",
      "\n",
      " [[4 5 6]\n",
      "  [4 5 6]]]\n",
      "\n",
      "[[1 2 3]\n",
      " [1 2 3]\n",
      " [4 5 6]\n",
      " [4 5 6]]\n",
      "\n",
      "[[[1 2 3]\n",
      "  [4 5 6]]\n",
      "\n",
      " [[1 2 3]\n",
      "  [4 5 6]]]\n",
      "\n",
      "[[1 2 3 4 5 6]\n",
      " [1 2 3 4 5 6]]\n",
      "\n",
      "[[[1 4]\n",
      "  [2 5]\n",
      "  [3 6]]\n",
      "\n",
      " [[1 4]\n",
      "  [2 5]\n",
      "  [3 6]]]\n"
     ]
    }
   ],
   "source": [
    "arr=np.array([[1,2,3],[1,2,3]])\n",
    "arr2=np.array([[4,5,6],[4,5,6]])\n",
    "stack_merge_arr_arr2=np.stack((arr,arr2))\n",
    "axis_zero=np.stack((arr,arr2),axis=0) # work col's along \n",
    "col_vstack=np.vstack((arr,arr2)) # work vertical's along \n",
    "axis_one=np.stack((arr,arr2),axis=1) # work row's along \n",
    "col_dstack=np.hstack((arr,arr2)) # work horizontal's along \n",
    "height=np.dstack((arr,arr2)) # work height's along \n",
    "print(stack_merge_arr_arr2)\n",
    "print()\n",
    "print(axis_zero)\n",
    "print()\n",
    "print(col_vstack)\n",
    "print()\n",
    "print(axis_one)\n",
    "print()\n",
    "print(col_dstack)\n",
    "print()\n",
    "print(height)"
   ]
  },
  {
   "cell_type": "markdown",
   "id": "a9a28af9-7017-46e7-8f16-706a89d1c436",
   "metadata": {},
   "source": [
    "**spilit**\n"
   ]
  },
  {
   "cell_type": "code",
   "execution_count": 12,
   "id": "db7e9b27-c8c6-44b4-a642-68fe6836ed15",
   "metadata": {},
   "outputs": [
    {
     "name": "stdout",
     "output_type": "stream",
     "text": [
      "[1 2 3 4 5 6]\n",
      "[array([1, 2]), array([3, 4]), array([5, 6])]\n",
      "[1 2]\n"
     ]
    }
   ],
   "source": [
    "import numpy as np\n",
    "arr=np.array([1,2,3,4,5,6])\n",
    "print(arr)\n",
    "spilit_arr=np.array_split(arr,3)\n",
    "print(spilit_arr)\n",
    "print(spilit_arr[0])"
   ]
  },
  {
   "cell_type": "code",
   "execution_count": 18,
   "id": "65b04d01-0f4f-4960-a606-26608117d94d",
   "metadata": {},
   "outputs": [
    {
     "name": "stdout",
     "output_type": "stream",
     "text": [
      "[[1 2]\n",
      " [3 4]\n",
      " [5 6]]\n",
      "[array([[1],\n",
      "       [3],\n",
      "       [5]]), array([[2],\n",
      "       [4],\n",
      "       [6]]), array([], shape=(3, 0), dtype=int32)]\n",
      "\n",
      "[[1]\n",
      " [3]\n",
      " [5]]\n"
     ]
    }
   ],
   "source": [
    "arr2=np.array([[1,2],[3,4],[5,6]])\n",
    "print(arr2)\n",
    "# spilit_arr2=np.array_split(arr2,3) \n",
    "spilit_arr2=np.array_split(arr2,3,axis=1)\n",
    "print(spilit_arr2)\n",
    "print()\n",
    "print(spilit_arr2[0])"
   ]
  },
  {
   "cell_type": "code",
   "execution_count": null,
   "id": "507a6243-0526-4b27-947d-5e3cac3374ab",
   "metadata": {},
   "outputs": [],
   "source": []
  }
 ],
 "metadata": {
  "kernelspec": {
   "display_name": "Python 3 (ipykernel)",
   "language": "python",
   "name": "python3"
  },
  "language_info": {
   "codemirror_mode": {
    "name": "ipython",
    "version": 3
   },
   "file_extension": ".py",
   "mimetype": "text/x-python",
   "name": "python",
   "nbconvert_exporter": "python",
   "pygments_lexer": "ipython3",
   "version": "3.11.0"
  }
 },
 "nbformat": 4,
 "nbformat_minor": 5
}

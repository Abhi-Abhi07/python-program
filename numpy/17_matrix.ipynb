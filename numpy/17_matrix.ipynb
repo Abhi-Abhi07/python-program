{
 "cells": [
  {
   "cell_type": "code",
   "execution_count": 17,
   "id": "91c661c4-d35c-4c71-89fb-cce981eaa6c4",
   "metadata": {},
   "outputs": [
    {
     "name": "stdout",
     "output_type": "stream",
     "text": [
      "[[1 2]\n",
      " [4 5]]\n",
      "int32\n",
      "<class 'numpy.matrix'>\n",
      "Addition\n",
      "Subtraction\n",
      "Multiplication\n",
      "[[ 9 12 15]\n",
      " [24 33 42]]\n"
     ]
    }
   ],
   "source": [
    "import numpy as np\n",
    "m=np.matrix([[1,2],[4,5]])\n",
    "m2=np.matrix([[1,2],[4,5]])\n",
    "print(m)\n",
    "print(m.dtype)\n",
    "print(type(m))\n",
    "print(\"Addition\")\n",
    "print(m+m2)\n",
    "print(\"Subtraction\")\n",
    "print(m-m2)\n",
    "print(\"Multiplication\")\n",
    "print(m*m2)\n",
    "# print(m.dot(m2))"
   ]
  },
  {
   "cell_type": "code",
   "execution_count": 15,
   "id": "44cd7c99-5a10-48f0-bb71-853bbec062d4",
   "metadata": {},
   "outputs": [
    {
     "name": "stdout",
     "output_type": "stream",
     "text": [
      "[[1 2 3]\n",
      " [4 5 6]]\n",
      "int32\n",
      "<class 'numpy.ndarray'>\n",
      "Addition\n",
      "[[ 2  4  6]\n",
      " [ 8 10 12]]\n",
      "Subtraction\n",
      "[[0 0 0]\n",
      " [0 0 0]]\n",
      "Multiplication\n",
      "[[ 1  4  9]\n",
      " [16 25 36]]\n"
     ]
    }
   ],
   "source": [
    "a=np.array([[1,2,3],[4,5,6]])\n",
    "a2=np.array([[1,2,3],[4,5,6]])\n",
    "print(a)\n",
    "print(m.dtype)\n",
    "print(type(a))\n",
    "print(\"Addition\")\n",
    "print(a+a2)\n",
    "print(\"Subtraction\")\n",
    "print(a-a2)\n",
    "print(\"Multiplication\")\n",
    "print(a*a2)"
   ]
  },
  {
   "cell_type": "code",
   "execution_count": null,
   "id": "cf91e3ff-aa76-42ef-99b4-d4d886adba34",
   "metadata": {},
   "outputs": [],
   "source": []
  }
 ],
 "metadata": {
  "kernelspec": {
   "display_name": "Python 3 (ipykernel)",
   "language": "python",
   "name": "python3"
  },
  "language_info": {
   "codemirror_mode": {
    "name": "ipython",
    "version": 3
   },
   "file_extension": ".py",
   "mimetype": "text/x-python",
   "name": "python",
   "nbconvert_exporter": "python",
   "pygments_lexer": "ipython3",
   "version": "3.11.0"
  }
 },
 "nbformat": 4,
 "nbformat_minor": 5
}

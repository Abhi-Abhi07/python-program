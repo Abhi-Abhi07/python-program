{
 "cells": [
  {
   "cell_type": "code",
   "execution_count": 1,
   "id": "81263696-1a2c-4102-97bf-e0855eb1a4ad",
   "metadata": {},
   "outputs": [
    {
     "name": "stdout",
     "output_type": "stream",
     "text": [
      "[1 2 3]\n"
     ]
    }
   ],
   "source": [
    "import numpy as np\n",
    "arr=np.array([1,2,3])\n",
    "print(arr)"
   ]
  },
  {
   "cell_type": "code",
   "execution_count": 2,
   "id": "914959b1-2e4b-4a8a-8171-11c7f247d8b7",
   "metadata": {},
   "outputs": [
    {
     "name": "stdout",
     "output_type": "stream",
     "text": [
      "[1 2 3 4]\n",
      "<class 'numpy.ndarray'>\n"
     ]
    }
   ],
   "source": [
    "x=[1,2,3,4]\n",
    "y=np.array(x)\n",
    "print(y)\n",
    "print(type(y))"
   ]
  },
  {
   "cell_type": "code",
   "execution_count": 3,
   "id": "2d5abc68-795e-4705-b864-292b54d1644c",
   "metadata": {
    "jp-MarkdownHeadingCollapsed": true
   },
   "outputs": [
    {
     "name": "stdin",
     "output_type": "stream",
     "text": [
      "Enter data :  5\n",
      "Enter data :  6\n",
      "Enter data :  6\n",
      "Enter data :  5\n"
     ]
    },
    {
     "name": "stdout",
     "output_type": "stream",
     "text": [
      "[5 6 6 5]\n",
      "1\n"
     ]
    }
   ],
   "source": [
    "l=[]\n",
    "for i in range(1,5):\n",
    "    data=int(input(\"Enter data : \"))\n",
    "    l.append(data)\n",
    "print(np.array(l))\n",
    "print(np.array(l).ndim)"
   ]
  },
  {
   "cell_type": "code",
   "execution_count": 4,
   "id": "cae68ffb-a7b8-48fa-923e-509395b0765b",
   "metadata": {},
   "outputs": [
    {
     "name": "stdout",
     "output_type": "stream",
     "text": [
      "[[2 3 4]\n",
      " [2 3 6]]\n",
      "2\n",
      "3\n",
      "6\n"
     ]
    }
   ],
   "source": [
    "ar2=np.array([[2,3,4],[2,3,6]])\n",
    "ar3=np.array([[[]]])\n",
    "arn=np.array([[[[[[]]]]]])\n",
    "print(ar2)\n",
    "print(ar2.ndim)\n",
    "print(ar3.ndim)\n",
    "print(arn.ndim)"
   ]
  },
  {
   "cell_type": "code",
   "execution_count": null,
   "id": "9f28e8c6-358c-4d7c-aa1b-f787abc83351",
   "metadata": {},
   "outputs": [],
   "source": []
  }
 ],
 "metadata": {
  "kernelspec": {
   "display_name": "Python 3 (ipykernel)",
   "language": "python",
   "name": "python3"
  },
  "language_info": {
   "codemirror_mode": {
    "name": "ipython",
    "version": 3
   },
   "file_extension": ".py",
   "mimetype": "text/x-python",
   "name": "python",
   "nbconvert_exporter": "python",
   "pygments_lexer": "ipython3",
   "version": "3.11.0"
  }
 },
 "nbformat": 4,
 "nbformat_minor": 5
}

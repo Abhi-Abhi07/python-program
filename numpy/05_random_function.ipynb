{
 "cells": [
  {
   "cell_type": "markdown",
   "id": "64f8242e-a98b-4ee9-9aed-542dc7b0238b",
   "metadata": {},
   "source": [
    "**rand**"
   ]
  },
  {
   "cell_type": "code",
   "execution_count": 1,
   "id": "95fc99cf-abec-4838-be0a-32c166831429",
   "metadata": {},
   "outputs": [
    {
     "name": "stdout",
     "output_type": "stream",
     "text": [
      "[0.99964855 0.20089991 0.54503916 0.31465116]\n"
     ]
    }
   ],
   "source": [
    "import numpy as np\n",
    "var=np.random.rand(4)\n",
    "print(var)"
   ]
  },
  {
   "cell_type": "code",
   "execution_count": 2,
   "id": "2aea5b1d-e5a8-4fa4-a046-2b006cc88c6b",
   "metadata": {},
   "outputs": [
    {
     "name": "stdout",
     "output_type": "stream",
     "text": [
      "[[0.89383104 0.36513908 0.67723101 0.44806573 0.80927354]\n",
      " [0.85465338 0.46667668 0.74323128 0.03719623 0.79652708]\n",
      " [0.75496866 0.17428577 0.3529793  0.20107362 0.02234929]]\n"
     ]
    }
   ],
   "source": [
    "import numpy as np\n",
    "var1=np.random.rand(3,5)\n",
    "print(var1)"
   ]
  },
  {
   "cell_type": "markdown",
   "id": "613d7650-ca42-41ef-be93-e2a9b986744a",
   "metadata": {},
   "source": [
    "**randn**"
   ]
  },
  {
   "cell_type": "code",
   "execution_count": 3,
   "id": "f22e9a84-0bee-4329-bcf3-3b51a6368625",
   "metadata": {},
   "outputs": [
    {
     "name": "stdout",
     "output_type": "stream",
     "text": [
      "[-1.30799723  0.11760564  0.21328124  0.91140076 -1.30397033]\n"
     ]
    }
   ],
   "source": [
    "var2=np.random.randn(5)\n",
    "print(var2)"
   ]
  },
  {
   "cell_type": "markdown",
   "id": "2b70612d-1d95-48cb-a675-bbf73054f983",
   "metadata": {},
   "source": [
    "**ranf**"
   ]
  },
  {
   "cell_type": "code",
   "execution_count": 4,
   "id": "cb03ede6-a44e-4b99-9899-9e5886f71473",
   "metadata": {},
   "outputs": [
    {
     "name": "stdout",
     "output_type": "stream",
     "text": [
      "[0.17326752 0.96935827 0.7871179  0.62739292 0.62805819]\n"
     ]
    }
   ],
   "source": [
    "var3=np.random.ranf(5)\n",
    "print(var3)"
   ]
  },
  {
   "cell_type": "markdown",
   "id": "3eac3b0e-0e31-4f35-877b-f2aee3a8bd53",
   "metadata": {},
   "source": [
    "**randint**"
   ]
  },
  {
   "cell_type": "code",
   "execution_count": 5,
   "id": "4b7e6594-569f-448e-96a9-d31dc9e976d0",
   "metadata": {},
   "outputs": [
    {
     "name": "stdout",
     "output_type": "stream",
     "text": [
      "[14 16 13 18 15]\n"
     ]
    }
   ],
   "source": [
    "# (min,max,total_value)\n",
    "var4=np.random.randint(5,20,5)\n",
    "print(var4)"
   ]
  },
  {
   "cell_type": "code",
   "execution_count": null,
   "id": "74414194-3433-42a3-a0bf-ce384101ab55",
   "metadata": {},
   "outputs": [],
   "source": []
  }
 ],
 "metadata": {
  "kernelspec": {
   "display_name": "Python 3 (ipykernel)",
   "language": "python",
   "name": "python3"
  },
  "language_info": {
   "codemirror_mode": {
    "name": "ipython",
    "version": 3
   },
   "file_extension": ".py",
   "mimetype": "text/x-python",
   "name": "python",
   "nbconvert_exporter": "python",
   "pygments_lexer": "ipython3",
   "version": "3.11.0"
  }
 },
 "nbformat": 4,
 "nbformat_minor": 5
}

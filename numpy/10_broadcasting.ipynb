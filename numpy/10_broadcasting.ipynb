{
 "cells": [
  {
   "cell_type": "code",
   "execution_count": 1,
   "id": "16480c36-00b7-4b30-9746-74b51ff0b85d",
   "metadata": {},
   "outputs": [
    {
     "name": "stdout",
     "output_type": "stream",
     "text": [
      "(3,)\n",
      "1\n",
      "[1 2 3]\n",
      "\n",
      "(3, 1)\n",
      "2\n",
      "[[1]\n",
      " [2]\n",
      " [3]]\n",
      "\n",
      "\n",
      "Addition\n",
      "[[2 3 4]\n",
      " [3 4 5]\n",
      " [4 5 6]]\n"
     ]
    }
   ],
   "source": [
    "import numpy as np\n",
    "var1=np.array([1,2,3])\n",
    "print(var1.shape)\n",
    "print(var1.ndim)\n",
    "print(var1)\n",
    "print()\n",
    "\n",
    "var2=np.array([[1],[2],[3]])\n",
    "print(var2.shape)\n",
    "print(var2.ndim)\n",
    "print(var2)\n",
    "print()\n",
    "print()\n",
    "print(\"Addition\")\n",
    "print(np.add(var1,var2))"
   ]
  },
  {
   "cell_type": "code",
   "execution_count": 2,
   "id": "14d13ac4-8ac4-47e2-85c7-029c802d39e5",
   "metadata": {},
   "outputs": [
    {
     "name": "stdout",
     "output_type": "stream",
     "text": [
      "(2, 1)\n",
      "(2, 3)\n",
      "\n",
      "[[ 4  5  6]\n",
      " [ 9 10 11]]\n"
     ]
    }
   ],
   "source": [
    "x=np.array([[2],[4]])\n",
    "print(x.shape)\n",
    "y=np.array([[2,3,4],[5,6,7]])\n",
    "print(y.shape)\n",
    "print()\n",
    "print(np.add(x,y))"
   ]
  },
  {
   "cell_type": "code",
   "execution_count": null,
   "id": "d64d9145-06d7-4d34-aa95-1e383b295cb6",
   "metadata": {},
   "outputs": [],
   "source": []
  }
 ],
 "metadata": {
  "kernelspec": {
   "display_name": "Python 3 (ipykernel)",
   "language": "python",
   "name": "python3"
  },
  "language_info": {
   "codemirror_mode": {
    "name": "ipython",
    "version": 3
   },
   "file_extension": ".py",
   "mimetype": "text/x-python",
   "name": "python",
   "nbconvert_exporter": "python",
   "pygments_lexer": "ipython3",
   "version": "3.11.0"
  }
 },
 "nbformat": 4,
 "nbformat_minor": 5
}

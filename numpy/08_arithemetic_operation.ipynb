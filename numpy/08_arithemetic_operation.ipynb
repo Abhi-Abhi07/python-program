{
 "cells": [
  {
   "cell_type": "code",
   "execution_count": 1,
   "id": "34d1aeb3-7076-43cc-9291-dadaf0c501c2",
   "metadata": {},
   "outputs": [
    {
     "name": "stdout",
     "output_type": "stream",
     "text": [
      "[4 5 6 7]\n"
     ]
    }
   ],
   "source": [
    "import numpy as np\n",
    "var=np.array([1,2,3,4])\n",
    "varadd=var+3\n",
    "print(varadd)"
   ]
  },
  {
   "cell_type": "code",
   "execution_count": 2,
   "id": "48f754db-fcbb-4a3a-812e-df2182de5038",
   "metadata": {},
   "outputs": [
    {
     "name": "stdout",
     "output_type": "stream",
     "text": [
      "[2 4 6 8]\n"
     ]
    }
   ],
   "source": [
    "\n",
    "var=np.array([1,2,3,4])\n",
    "var2=np.array([1,2,3,4])\n",
    "add=var+var2\n",
    "print(add)"
   ]
  },
  {
   "cell_type": "code",
   "execution_count": 3,
   "id": "6a295fa0-7840-4d90-90b4-f2dd143bc7c6",
   "metadata": {},
   "outputs": [
    {
     "name": "stdout",
     "output_type": "stream",
     "text": [
      "[2 4 6 8]\n"
     ]
    }
   ],
   "source": [
    "var=np.array([1,2,3,4])\n",
    "var2=np.array([1,2,3,4])\n",
    "add=np.add(var,var2)\n",
    "print(add)"
   ]
  },
  {
   "cell_type": "code",
   "execution_count": 4,
   "id": "fa08cc8d-b905-4739-be4c-417ad63bf769",
   "metadata": {},
   "outputs": [
    {
     "name": "stdout",
     "output_type": "stream",
     "text": [
      "[0 0 0 0]\n"
     ]
    }
   ],
   "source": [
    "\n",
    "var=np.array([1,2,3,4])\n",
    "var2=np.array([1,2,3,4])\n",
    "sub=var-var2\n",
    "print(sub)"
   ]
  },
  {
   "cell_type": "code",
   "execution_count": 5,
   "id": "41e99cd3-8580-4ba7-8f5d-5a88d63065fc",
   "metadata": {},
   "outputs": [
    {
     "name": "stdout",
     "output_type": "stream",
     "text": [
      "[0 0 0 0]\n"
     ]
    }
   ],
   "source": [
    "var=np.array([1,2,3,4])\n",
    "var2=np.array([1,2,3,4])\n",
    "sub=np.subtract(var,var2)\n",
    "print(sub)"
   ]
  },
  {
   "cell_type": "code",
   "execution_count": 6,
   "id": "7dfc4d48-e836-4971-9297-f1be873b6913",
   "metadata": {},
   "outputs": [
    {
     "name": "stdout",
     "output_type": "stream",
     "text": [
      "[ 1  4  9 16]\n"
     ]
    }
   ],
   "source": [
    "\n",
    "var=np.array([1,2,3,4])\n",
    "var2=np.array([1,2,3,4])\n",
    "mul=var*var2\n",
    "print(mul)"
   ]
  },
  {
   "cell_type": "code",
   "execution_count": 7,
   "id": "d2e4d92b-901f-43d5-be0c-a82e0d4931ac",
   "metadata": {},
   "outputs": [
    {
     "name": "stdout",
     "output_type": "stream",
     "text": [
      "[1. 1. 1. 1.]\n"
     ]
    }
   ],
   "source": [
    "\n",
    "var=np.array([1,2,3,4])\n",
    "var2=np.array([1,2,3,4])\n",
    "divide=var/var2\n",
    "print(divide)"
   ]
  },
  {
   "cell_type": "code",
   "execution_count": 8,
   "id": "2557033b-1e33-44b4-aad9-d85e1a617b7c",
   "metadata": {},
   "outputs": [
    {
     "name": "stdout",
     "output_type": "stream",
     "text": [
      "[1 2 0 1]\n"
     ]
    }
   ],
   "source": [
    "var=np.array([1,2,3,4])\n",
    "var2=np.array([1,2,3,4])\n",
    "mod=var%3\n",
    "print(mod)"
   ]
  },
  {
   "cell_type": "code",
   "execution_count": 9,
   "id": "1d64ff74-c0a7-44fa-90cd-90ca15e62a06",
   "metadata": {},
   "outputs": [
    {
     "name": "stdout",
     "output_type": "stream",
     "text": [
      "[  1   4  27 256]\n"
     ]
    }
   ],
   "source": [
    "var=np.array([1,2,3,4])\n",
    "var2=np.array([1,2,3,4])\n",
    "power=var**var2\n",
    "print(power)"
   ]
  },
  {
   "cell_type": "code",
   "execution_count": 10,
   "id": "977f0539-95cb-42c3-9cfb-d0f2829f4cdf",
   "metadata": {},
   "outputs": [
    {
     "name": "stdout",
     "output_type": "stream",
     "text": [
      "[1 0 0 0]\n"
     ]
    }
   ],
   "source": [
    "var=np.array([1,2,3,4])\n",
    "r=np.reciprocal(var)\n",
    "print(r)"
   ]
  },
  {
   "cell_type": "markdown",
   "id": "c833a728-8f1c-45c0-9659-b8188e128549",
   "metadata": {},
   "source": [
    "**2D Array**"
   ]
  },
  {
   "cell_type": "code",
   "execution_count": 11,
   "id": "bf35d055-24f3-44b7-927a-a48d09839be3",
   "metadata": {},
   "outputs": [
    {
     "name": "stdout",
     "output_type": "stream",
     "text": [
      "[[1 2 3]\n",
      " [4 5 6]]\n",
      "\n",
      "[[7 8 9]\n",
      " [0 0 0]]\n",
      "\n",
      "[[ 8 10 12]\n",
      " [ 4  5  6]]\n"
     ]
    }
   ],
   "source": [
    "var21=np.array([[1,2,3],[4,5,6]])\n",
    "var22=np.array([[7,8,9],[0,0,0]])\n",
    "print(var21)\n",
    "print()\n",
    "print(var22)\n",
    "print()\n",
    "result=np.add(var21,var22)\n",
    "print(result)"
   ]
  },
  {
   "cell_type": "code",
   "execution_count": 12,
   "id": "de661346-0196-4770-a833-7ddfdf2cf068",
   "metadata": {},
   "outputs": [
    {
     "name": "stdout",
     "output_type": "stream",
     "text": [
      "[[ 7 16 27]\n",
      " [ 0  0  0]]\n"
     ]
    }
   ],
   "source": [
    "var21=np.array([[1,2,3],[4,5,6]])\n",
    "var22=np.array([[7,8,9],[0,0,0]])\n",
    "result=np.multiply(var21,var22)\n",
    "print(result)"
   ]
  },
  {
   "cell_type": "code",
   "execution_count": null,
   "id": "f5b3eb41-5093-4f52-bd8f-8ed125fbf122",
   "metadata": {},
   "outputs": [],
   "source": []
  }
 ],
 "metadata": {
  "kernelspec": {
   "display_name": "Python 3 (ipykernel)",
   "language": "python",
   "name": "python3"
  },
  "language_info": {
   "codemirror_mode": {
    "name": "ipython",
    "version": 3
   },
   "file_extension": ".py",
   "mimetype": "text/x-python",
   "name": "python",
   "nbconvert_exporter": "python",
   "pygments_lexer": "ipython3",
   "version": "3.11.0"
  }
 },
 "nbformat": 4,
 "nbformat_minor": 5
}

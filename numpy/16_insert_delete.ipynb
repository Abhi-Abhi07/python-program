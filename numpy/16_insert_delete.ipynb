{
 "cells": [
  {
   "cell_type": "code",
   "execution_count": 1,
   "id": "c7ae4af8-8992-4b09-a718-c235a336c0ea",
   "metadata": {},
   "outputs": [
    {
     "name": "stdout",
     "output_type": "stream",
     "text": [
      "[1 2 3 4 5]\n",
      "[   1    2    3    4    5 1000]\n"
     ]
    }
   ],
   "source": [
    "import numpy as np\n",
    "var=np.array([1,2,3,4,5])\n",
    "print(var)\n",
    "# accept only integer value (float convert into interger)\n",
    "#            arr  index  value \n",
    "# v=np.insert(var,  2,    10)\n",
    "# v=np.insert(var,(2,4),100)\n",
    "v=np.append(var,1000)\n",
    "print(v)"
   ]
  },
  {
   "cell_type": "code",
   "execution_count": 7,
   "id": "9f8d0283-9382-46cf-a3a3-086c2c913187",
   "metadata": {},
   "outputs": [
    {
     "name": "stdout",
     "output_type": "stream",
     "text": [
      "[[1 2 3]\n",
      " [4 5 6]]\n",
      "\n",
      "[[ 1  2  3]\n",
      " [ 4  5  6]\n",
      " [10 10 10]]\n"
     ]
    }
   ],
   "source": [
    "import numpy as np\n",
    "var2=np.array([[1,2,3],[4,5,6]])\n",
    "print(var2)\n",
    "print()\n",
    "# v2=np.insert(var2,2,[7,7,7],axis=0)\n",
    "v2=np.append(var2,[[10,10,10]],axis=0)\n",
    "print(v2)"
   ]
  },
  {
   "cell_type": "markdown",
   "id": "fcbb0c29-ab1f-4b05-97d4-9d88dc2ae529",
   "metadata": {},
   "source": [
    "**Delete**"
   ]
  },
  {
   "cell_type": "code",
   "execution_count": 8,
   "id": "296767f1-3d33-4a2c-812c-663757670f37",
   "metadata": {},
   "outputs": [
    {
     "name": "stdout",
     "output_type": "stream",
     "text": [
      "[7 2 4 9 5]\n",
      "[7 2 4 5]\n"
     ]
    }
   ],
   "source": [
    "var=np.array([7,2,4,9,5])\n",
    "print(var)\n",
    "v=np.delete(var,3)\n",
    "print(v)"
   ]
  },
  {
   "cell_type": "code",
   "execution_count": null,
   "id": "4fbfbce9-7de8-49b7-a43e-ff5dfe80a447",
   "metadata": {},
   "outputs": [],
   "source": []
  }
 ],
 "metadata": {
  "kernelspec": {
   "display_name": "Python 3 (ipykernel)",
   "language": "python",
   "name": "python3"
  },
  "language_info": {
   "codemirror_mode": {
    "name": "ipython",
    "version": 3
   },
   "file_extension": ".py",
   "mimetype": "text/x-python",
   "name": "python",
   "nbconvert_exporter": "python",
   "pygments_lexer": "ipython3",
   "version": "3.11.0"
  }
 },
 "nbformat": 4,
 "nbformat_minor": 5
}

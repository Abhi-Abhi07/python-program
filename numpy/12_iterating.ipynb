{
 "cells": [
  {
   "cell_type": "code",
   "execution_count": 1,
   "id": "d7fe5223-2293-44b7-a366-c38c3e62ca8d",
   "metadata": {},
   "outputs": [
    {
     "name": "stdout",
     "output_type": "stream",
     "text": [
      "[1 4 6 2 5]\n",
      "\n",
      "1\n",
      "4\n",
      "6\n",
      "2\n",
      "5\n",
      "\n",
      "1\n",
      "4\n",
      "6\n",
      "2\n",
      "5\n"
     ]
    }
   ],
   "source": [
    "import numpy as np\n",
    "arr=np.array([1,4,6,2,5])\n",
    "print(arr)\n",
    "print()\n",
    "for i in arr:\n",
    "    print(i)\n",
    "\n",
    "print()\n",
    "for i in np.nditer(arr):\n",
    "    print(i)"
   ]
  },
  {
   "cell_type": "code",
   "execution_count": 2,
   "id": "e8aa206e-7872-4793-914a-b3eb15af4e66",
   "metadata": {},
   "outputs": [
    {
     "name": "stdout",
     "output_type": "stream",
     "text": [
      "b'1'\n",
      "b'4'\n",
      "b'6'\n",
      "b'2'\n",
      "b'5'\n"
     ]
    }
   ],
   "source": [
    "for i in np.nditer(arr,flags=['buffered'],op_dtypes=['S']):\n",
    "    print(i)"
   ]
  },
  {
   "cell_type": "code",
   "execution_count": 3,
   "id": "a6f2acb1-7085-4b35-af19-d1e192b92187",
   "metadata": {},
   "outputs": [
    {
     "name": "stdout",
     "output_type": "stream",
     "text": [
      "(0,) 1\n",
      "(1,) 4\n",
      "(2,) 6\n",
      "(3,) 2\n",
      "(4,) 5\n"
     ]
    }
   ],
   "source": [
    "#i me indexing value\n",
    "#d me data\n",
    "for i,d in np.ndenumerate(arr):\n",
    "    print(i,d)"
   ]
  },
  {
   "cell_type": "code",
   "execution_count": 4,
   "id": "8966c09c-3503-49eb-bc4c-ffb5320090b5",
   "metadata": {},
   "outputs": [
    {
     "name": "stdout",
     "output_type": "stream",
     "text": [
      "[[2 3 4]\n",
      " [4 5 1]]\n",
      "\n",
      "[2 3 4]\n",
      "[4 5 1]\n",
      "\n",
      "2\n",
      "3\n",
      "4\n",
      "4\n",
      "5\n",
      "1\n"
     ]
    }
   ],
   "source": [
    "arr2=np.array([[2,3,4],[4,5,1]])\n",
    "print(arr2)\n",
    "print()\n",
    "for i in arr2:\n",
    "    print(i)\n",
    "print()\n",
    "for i in arr2:\n",
    "    for j in i:\n",
    "        print(j)\n"
   ]
  },
  {
   "cell_type": "code",
   "execution_count": 5,
   "id": "a591f893-1aaf-4a80-b1aa-e9172e0c5cdd",
   "metadata": {},
   "outputs": [
    {
     "name": "stdout",
     "output_type": "stream",
     "text": [
      "\n",
      "2\n",
      "3\n",
      "4\n",
      "4\n",
      "5\n",
      "1\n"
     ]
    }
   ],
   "source": [
    "print()\n",
    "for i in np.nditer(arr2):\n",
    "    print(i)"
   ]
  },
  {
   "cell_type": "code",
   "execution_count": 6,
   "id": "34174853-f02c-4b7b-a2bf-1c1101e67ebd",
   "metadata": {},
   "outputs": [
    {
     "name": "stdout",
     "output_type": "stream",
     "text": [
      "[[[2 3 4 5]\n",
      "  [4 5 1 5]]]\n",
      "3\n",
      "\n",
      "2\n",
      "3\n",
      "4\n",
      "5\n",
      "4\n",
      "5\n",
      "1\n",
      "5\n"
     ]
    }
   ],
   "source": [
    "arr3=np.array([[[2,3,4,5],[4,5,1,5]]])\n",
    "print(arr3)\n",
    "print(arr3.ndim)\n",
    "print()\n",
    "for i in arr3:\n",
    "    for j in i:\n",
    "        for k in j:\n",
    "            print(k)\n"
   ]
  },
  {
   "cell_type": "code",
   "execution_count": 7,
   "id": "fc4a9cba-b7cc-4f9e-b370-5b4737a72033",
   "metadata": {},
   "outputs": [
    {
     "name": "stdout",
     "output_type": "stream",
     "text": [
      "\n",
      "b'2'\n",
      "b'3'\n",
      "b'4'\n",
      "b'5'\n",
      "b'4'\n",
      "b'5'\n",
      "b'1'\n",
      "b'5'\n"
     ]
    }
   ],
   "source": [
    "print()\n",
    "for i in np.nditer(arr3,flags=['buffered'],op_dtypes=['S']):\n",
    "    print(i)"
   ]
  },
  {
   "cell_type": "code",
   "execution_count": 8,
   "id": "71547df4-da99-4352-86d1-34fa453f4581",
   "metadata": {},
   "outputs": [
    {
     "name": "stdout",
     "output_type": "stream",
     "text": [
      "(0, 0, 0) 2\n",
      "(0, 0, 1) 3\n",
      "(0, 0, 2) 4\n",
      "(0, 0, 3) 5\n",
      "(0, 1, 0) 4\n",
      "(0, 1, 1) 5\n",
      "(0, 1, 2) 1\n",
      "(0, 1, 3) 5\n"
     ]
    }
   ],
   "source": [
    "#i me indexing value\n",
    "#d me data\n",
    "for i,d in np.ndenumerate(arr3):\n",
    "    print(i,d)"
   ]
  },
  {
   "cell_type": "code",
   "execution_count": null,
   "id": "628b4017-ebd5-47a3-9d45-815131ff8241",
   "metadata": {},
   "outputs": [],
   "source": []
  },
  {
   "cell_type": "code",
   "execution_count": null,
   "id": "2250e435-0946-422b-8388-faed7394e919",
   "metadata": {},
   "outputs": [],
   "source": []
  }
 ],
 "metadata": {
  "kernelspec": {
   "display_name": "Python 3 (ipykernel)",
   "language": "python",
   "name": "python3"
  },
  "language_info": {
   "codemirror_mode": {
    "name": "ipython",
    "version": 3
   },
   "file_extension": ".py",
   "mimetype": "text/x-python",
   "name": "python",
   "nbconvert_exporter": "python",
   "pygments_lexer": "ipython3",
   "version": "3.11.0"
  }
 },
 "nbformat": 4,
 "nbformat_minor": 5
}

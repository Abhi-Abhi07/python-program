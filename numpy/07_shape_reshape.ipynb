{
 "cells": [
  {
   "cell_type": "code",
   "execution_count": 1,
   "id": "bb98a992-f65a-4ab1-823c-8acb6d299515",
   "metadata": {},
   "outputs": [
    {
     "name": "stdout",
     "output_type": "stream",
     "text": [
      "[[1 2 3]\n",
      " [1 2 3]]\n",
      "\n",
      "(2, 3)\n"
     ]
    }
   ],
   "source": [
    "import numpy as np\n",
    "arr=np.array([[1,2,3],[1,2,3]])\n",
    "print(arr)\n",
    "print()\n",
    "print(arr.shape)"
   ]
  },
  {
   "cell_type": "code",
   "execution_count": 2,
   "id": "4ae2126d-d474-4b81-ae57-b63145051d06",
   "metadata": {},
   "outputs": [
    {
     "name": "stdout",
     "output_type": "stream",
     "text": [
      "[[[[1 2 3 4]]]]\n",
      "4\n",
      "\n",
      "(1, 1, 1, 4)\n"
     ]
    }
   ],
   "source": [
    "arr1=np.array([1,2,3,4],ndmin=4)\n",
    "print(arr1)\n",
    "print(arr1.ndim)\n",
    "print()\n",
    "print(arr1.shape)"
   ]
  },
  {
   "cell_type": "markdown",
   "id": "8bbaa741-5d31-4b8f-9bb8-e43b8c727a5f",
   "metadata": {},
   "source": [
    "***Reshape***"
   ]
  },
  {
   "cell_type": "code",
   "execution_count": 3,
   "id": "d4c32d96-69a3-4327-8cd4-5320bb791055",
   "metadata": {},
   "outputs": [
    {
     "name": "stdout",
     "output_type": "stream",
     "text": [
      "[ 1  2  3  4  5  6  7  8  9 10]\n",
      "int32\n",
      "1\n",
      "\n",
      "[[ 1  2  3  4  5]\n",
      " [ 6  7  8  9 10]]\n",
      "int32\n",
      "2\n"
     ]
    }
   ],
   "source": [
    "a=np.array([1,2,3,4,5,6,7,8,9,10])\n",
    "print(a)\n",
    "print(a.dtype)\n",
    "print(a.ndim)\n",
    "\n",
    "print()\n",
    "x=a.reshape(2,5)\n",
    "print(x)\n",
    "print(x.dtype)\n",
    "print(x.ndim)"
   ]
  },
  {
   "cell_type": "code",
   "execution_count": 4,
   "id": "4b7574a5-d341-4179-add8-ca29e4a7b6f5",
   "metadata": {},
   "outputs": [
    {
     "name": "stdout",
     "output_type": "stream",
     "text": [
      "[ 1  2  3  4  5  6  7  8  9 10 11 12]\n",
      "1\n",
      "\n",
      "[[[ 1  2]\n",
      "  [ 3  4]\n",
      "  [ 5  6]]\n",
      "\n",
      " [[ 7  8]\n",
      "  [ 9 10]\n",
      "  [11 12]]]\n",
      "3\n",
      "\n",
      "[ 1  2  3  4  5  6  7  8  9 10 11 12]\n",
      "1\n",
      "(12,)\n"
     ]
    }
   ],
   "source": [
    "ar=np.array([1,2,3,4,5,6,7,8,9,10,11,12])\n",
    "print(ar)\n",
    "print(ar.ndim)\n",
    "\n",
    "print()\n",
    "x3=ar.reshape(2,3,2)\n",
    "print(x3)\n",
    "print(x3.ndim)\n",
    "\n",
    "print()\n",
    "one=x3.reshape(12)\n",
    "print(one)\n",
    "print(one.ndim)\n",
    "print(one.shape)"
   ]
  },
  {
   "cell_type": "code",
   "execution_count": null,
   "id": "0e36d93b-57a2-4c40-9db1-28d2623a9e0e",
   "metadata": {},
   "outputs": [],
   "source": []
  }
 ],
 "metadata": {
  "kernelspec": {
   "display_name": "Python 3 (ipykernel)",
   "language": "python",
   "name": "python3"
  },
  "language_info": {
   "codemirror_mode": {
    "name": "ipython",
    "version": 3
   },
   "file_extension": ".py",
   "mimetype": "text/x-python",
   "name": "python",
   "nbconvert_exporter": "python",
   "pygments_lexer": "ipython3",
   "version": "3.11.0"
  }
 },
 "nbformat": 4,
 "nbformat_minor": 5
}

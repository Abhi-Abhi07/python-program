{
 "cells": [
  {
   "cell_type": "markdown",
   "id": "2d8cb367-211a-4104-bc31-65107adbb02e",
   "metadata": {},
   "source": [
    "**#Search**"
   ]
  },
  {
   "cell_type": "code",
   "execution_count": 1,
   "id": "676ccdc4-d0fd-4944-87cf-a51ef78a3cef",
   "metadata": {},
   "outputs": [
    {
     "name": "stdout",
     "output_type": "stream",
     "text": [
      "(array([ 5,  7, 11], dtype=int64),)\n",
      "(array([0, 8], dtype=int64),)\n"
     ]
    }
   ],
   "source": [
    "import numpy as np\n",
    "arr=np.array([2,3,5,1,43,7,43,7,6,9,35,7])\n",
    "x=np.where(arr==7)\n",
    "y=np.where(arr%2==0)\n",
    "print(x)\n",
    "print(y)"
   ]
  },
  {
   "cell_type": "markdown",
   "id": "7c7afee0-1399-4bee-890f-ad3cb7baf56c",
   "metadata": {},
   "source": [
    "**searchsorted**\n"
   ]
  },
  {
   "cell_type": "code",
   "execution_count": 2,
   "id": "824cbfaf-1d3b-4009-b3ec-09107aad32e0",
   "metadata": {},
   "outputs": [
    {
     "name": "stdout",
     "output_type": "stream",
     "text": [
      "[4 5 5]\n"
     ]
    }
   ],
   "source": [
    "arr2=np.array([1,2,3,4,6,8,9])\n",
    "# x=np.searchsorted(arr2,7)\n",
    "# x=np.searchsorted(arr2,7,side=\"right\")\n",
    "x=np.searchsorted(arr2,[5,6,7],side=\"right\")\n",
    "print(x)\n"
   ]
  },
  {
   "cell_type": "markdown",
   "id": "3fee903c-a97c-418d-9da9-111a184b3756",
   "metadata": {},
   "source": [
    "**sort**\n"
   ]
  },
  {
   "cell_type": "code",
   "execution_count": 3,
   "id": "2d6ce40d-65a3-4cb7-8bc2-f962541993bf",
   "metadata": {},
   "outputs": [
    {
     "name": "stdout",
     "output_type": "stream",
     "text": [
      "[ 1  2  3  5  6  7  9 11 17 35 43 73]\n",
      "['a' 'b' 'c' 'p' 'r']\n"
     ]
    }
   ],
   "source": [
    "ar=np.array([2,3,5,1,43,7,73,17,6,9,35,11])\n",
    "strarr=np.array(['a','r','c','b','p'])\n",
    "print(np.sort(ar))\n",
    "print(np.sort(strarr))"
   ]
  },
  {
   "cell_type": "code",
   "execution_count": 4,
   "id": "4feae8f2-4a05-4ae7-bf24-6c9a2ff5128f",
   "metadata": {},
   "outputs": [
    {
     "name": "stdout",
     "output_type": "stream",
     "text": [
      "[[ 2  3  5]\n",
      " [ 1  7 43]\n",
      " [ 6 17 73]\n",
      " [ 9 11 35]]\n"
     ]
    }
   ],
   "source": [
    "ar2=np.array([[2,3,5],[1,43,7],[73,17,6],[9,35,11]])\n",
    "print(np.sort(ar2))"
   ]
  },
  {
   "cell_type": "markdown",
   "id": "94b3f33a-c417-43dc-b9bd-9500af151d81",
   "metadata": {},
   "source": [
    "**Filter Array**"
   ]
  },
  {
   "cell_type": "code",
   "execution_count": 5,
   "id": "44af408f-fccf-4960-a71c-26b981cb5fc0",
   "metadata": {},
   "outputs": [
    {
     "name": "stdout",
     "output_type": "stream",
     "text": [
      "['a' 'c']\n",
      "<class 'numpy.ndarray'>\n"
     ]
    }
   ],
   "source": [
    "arf=np.array(['a','r','c','b','p'])\n",
    "f=[True,False,True,False,False]\n",
    "newArf=arf[f]\n",
    "print(newArf)\n",
    "print(type(newArf))"
   ]
  },
  {
   "cell_type": "code",
   "execution_count": null,
   "id": "0d38c07c-a24a-4ad9-b554-db3c071a3502",
   "metadata": {},
   "outputs": [],
   "source": []
  }
 ],
 "metadata": {
  "kernelspec": {
   "display_name": "Python 3 (ipykernel)",
   "language": "python",
   "name": "python3"
  },
  "language_info": {
   "codemirror_mode": {
    "name": "ipython",
    "version": 3
   },
   "file_extension": ".py",
   "mimetype": "text/x-python",
   "name": "python",
   "nbconvert_exporter": "python",
   "pygments_lexer": "ipython3",
   "version": "3.11.0"
  }
 },
 "nbformat": 4,
 "nbformat_minor": 5
}

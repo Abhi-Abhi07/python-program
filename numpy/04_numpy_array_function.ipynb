{
 "cells": [
  {
   "cell_type": "markdown",
   "id": "8c708dfa-bad0-45cc-a63d-9b33dc700a8b",
   "metadata": {},
   "source": [
    "**Zeros**"
   ]
  },
  {
   "cell_type": "code",
   "execution_count": 1,
   "id": "90028c7f-0428-4a1b-a5c3-a4d210eb8e2d",
   "metadata": {},
   "outputs": [
    {
     "name": "stdout",
     "output_type": "stream",
     "text": [
      "[0. 0. 0. 0.]\n",
      "\n",
      "[[0. 0. 0.]\n",
      " [0. 0. 0.]]\n"
     ]
    }
   ],
   "source": [
    "import numpy as np\n",
    "\n",
    "arr_zero=np.zeros(4)\n",
    "arr1_zero=np.zeros((2,3))\n",
    "\n",
    "print(arr_zero)\n",
    "print()\n",
    "print(arr1_zero)"
   ]
  },
  {
   "cell_type": "markdown",
   "id": "4a5019bc-0a30-47c5-ad7f-e50221accd15",
   "metadata": {},
   "source": [
    "**Ones**"
   ]
  },
  {
   "cell_type": "code",
   "execution_count": 2,
   "id": "37932425-44f9-4782-b40a-f01aa3163961",
   "metadata": {},
   "outputs": [
    {
     "name": "stdout",
     "output_type": "stream",
     "text": [
      "[1. 1. 1. 1. 1.]\n"
     ]
    }
   ],
   "source": [
    "arr_one=np.ones(5)\n",
    "print(arr_one)"
   ]
  },
  {
   "cell_type": "markdown",
   "id": "76b21c38-a1c3-4549-90d9-57d5859b331f",
   "metadata": {},
   "source": [
    "**Empty**"
   ]
  },
  {
   "cell_type": "code",
   "execution_count": 3,
   "id": "574437c7-685a-468e-b92f-b49f99644634",
   "metadata": {},
   "outputs": [
    {
     "name": "stdout",
     "output_type": "stream",
     "text": [
      "[1. 1. 1. 1. 1.]\n"
     ]
    }
   ],
   "source": [
    "# arr_empty=np.empty(3)\n",
    "# arr_empty=np.empty(4)\n",
    "arr_empty=np.empty(5)\n",
    "# priviously memory ke element empty array me aa jate hai\n",
    "print(arr_empty)"
   ]
  },
  {
   "cell_type": "markdown",
   "id": "331bae59-7217-42c3-98c6-c0384f9ee96c",
   "metadata": {},
   "source": [
    "**Range**"
   ]
  },
  {
   "cell_type": "code",
   "execution_count": 4,
   "id": "b9c626ab-a7ed-4601-8db1-fea29f7e9e2d",
   "metadata": {},
   "outputs": [
    {
     "name": "stdout",
     "output_type": "stream",
     "text": [
      "[0 1 2 3]\n"
     ]
    }
   ],
   "source": [
    "arr_range=np.arange(4)\n",
    "print(arr_range)"
   ]
  },
  {
   "cell_type": "markdown",
   "id": "c6b65c96-fbe8-4807-9591-05288c214253",
   "metadata": {},
   "source": [
    "**diagonal element fill with 1's**"
   ]
  },
  {
   "cell_type": "code",
   "execution_count": 7,
   "id": "9d6d6135-a8b1-4677-8860-b7e14eeafeb0",
   "metadata": {},
   "outputs": [
    {
     "name": "stdout",
     "output_type": "stream",
     "text": [
      "[[1. 0. 0. 0. 0.]\n",
      " [0. 1. 0. 0. 0.]\n",
      " [0. 0. 1. 0. 0.]]\n"
     ]
    }
   ],
   "source": [
    "# arr_diagonal=np.eye(3)\n",
    "arr_diagonal=np.eye(3,5)\n",
    "print(arr_diagonal)"
   ]
  },
  {
   "cell_type": "markdown",
   "id": "19a6f3db-ae99-4055-9d2a-d079d90e7ddb",
   "metadata": {},
   "source": [
    "**LinSpace**"
   ]
  },
  {
   "cell_type": "code",
   "execution_count": 6,
   "id": "c88bb93d-6bf3-4162-a3f8-a3a6da2415bf",
   "metadata": {},
   "outputs": [
    {
     "name": "stdout",
     "output_type": "stream",
     "text": [
      "[ 0. 10. 20. 30. 40.]\n"
     ]
    }
   ],
   "source": [
    "arr_space=np.linspace(0,40,num=5)\n",
    "print(arr_space)"
   ]
  },
  {
   "cell_type": "code",
   "execution_count": null,
   "id": "9674882e-f557-44b5-9cb5-f7033eadfc6b",
   "metadata": {},
   "outputs": [],
   "source": []
  }
 ],
 "metadata": {
  "kernelspec": {
   "display_name": "Python 3 (ipykernel)",
   "language": "python",
   "name": "python3"
  },
  "language_info": {
   "codemirror_mode": {
    "name": "ipython",
    "version": 3
   },
   "file_extension": ".py",
   "mimetype": "text/x-python",
   "name": "python",
   "nbconvert_exporter": "python",
   "pygments_lexer": "ipython3",
   "version": "3.11.0"
  }
 },
 "nbformat": 4,
 "nbformat_minor": 5
}

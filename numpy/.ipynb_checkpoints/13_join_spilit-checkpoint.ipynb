{
 "cells": [
  {
   "cell_type": "code",
   "execution_count": 7,
   "id": "0fb6afc3-0967-4a87-8a9e-bd6f6331fb08",
   "metadata": {},
   "outputs": [
    {
     "ename": "AxisError",
     "evalue": "axis 1 is out of bounds for array of dimension 1",
     "output_type": "error",
     "traceback": [
      "\u001b[1;31m---------------------------------------------------------------------------\u001b[0m",
      "\u001b[1;31mAxisError\u001b[0m                                 Traceback (most recent call last)",
      "Cell \u001b[1;32mIn[7], line 6\u001b[0m\n\u001b[0;32m      3\u001b[0m arr2\u001b[38;5;241m=\u001b[39mnp\u001b[38;5;241m.\u001b[39marray([\u001b[38;5;241m4\u001b[39m,\u001b[38;5;241m5\u001b[39m,\u001b[38;5;241m6\u001b[39m])\n\u001b[0;32m      4\u001b[0m \u001b[38;5;66;03m# join=np.concatenate((arr,arr2))\u001b[39;00m\n\u001b[0;32m      5\u001b[0m \u001b[38;5;66;03m# join=np.concatenate((arr,arr2),axis=0)\u001b[39;00m\n\u001b[1;32m----> 6\u001b[0m join\u001b[38;5;241m=\u001b[39m\u001b[43mnp\u001b[49m\u001b[38;5;241;43m.\u001b[39;49m\u001b[43mconcatenate\u001b[49m\u001b[43m(\u001b[49m\u001b[43m(\u001b[49m\u001b[43marr\u001b[49m\u001b[43m,\u001b[49m\u001b[43marr2\u001b[49m\u001b[43m)\u001b[49m\u001b[43m,\u001b[49m\u001b[43maxis\u001b[49m\u001b[38;5;241;43m=\u001b[39;49m\u001b[38;5;241;43m1\u001b[39;49m\u001b[43m)\u001b[49m \u001b[38;5;66;03m# show error\u001b[39;00m\n\u001b[0;32m      7\u001b[0m \u001b[38;5;28mprint\u001b[39m(join)\n",
      "\u001b[1;31mAxisError\u001b[0m: axis 1 is out of bounds for array of dimension 1"
     ]
    }
   ],
   "source": [
    "import numpy as np\n",
    "arr=np.array([1,2,3])\n",
    "arr2=np.array([4,5,6])\n",
    "join=np.concatenate((arr,arr2))\n",
    "# join=np.concatenate((arr,arr2),axis=0)\n",
    "# join=np.concatenate((arr,arr2),axis=1) # show error\n",
    "print(join)\n"
   ]
  },
  {
   "cell_type": "code",
   "execution_count": 2,
   "id": "02d62b43-4a09-40e4-b082-3f3d7c2ef972",
   "metadata": {},
   "outputs": [
    {
     "name": "stdout",
     "output_type": "stream",
     "text": [
      "[[1 2]\n",
      " [3 4]\n",
      " [5 6]\n",
      " [7 8]]\n"
     ]
    }
   ],
   "source": [
    "ar=np.array([[1,2],[3,4]])\n",
    "ar2=np.array([[5,6],[7,8]])\n",
    "# join2=np.concatenate((ar,ar2))\n",
    "join2=np.concatenate((ar,ar2),axis=0)\n",
    "# join2=np.concatenate((ar,ar2),axis=1)\n",
    "print(join2)"
   ]
  },
  {
   "cell_type": "code",
   "execution_count": 18,
   "id": "7b9cd594-74a3-415b-b28d-8ecd58b3f51f",
   "metadata": {},
   "outputs": [
    {
     "name": "stdout",
     "output_type": "stream",
     "text": [
      "[[1 4]\n",
      " [2 5]\n",
      " [3 6]]\n"
     ]
    }
   ],
   "source": [
    "arr=np.array([1,2,3])\n",
    "arr2=np.array([4,5,6])\n",
    "stack_merge_arr_arr2=np.stack((arr,arr2))\n",
    "col_axis_zero=np.stack((arr,arr2),axis=0) # work col's along \n",
    "col_vstack=np.vstack((arr,arr2)) # work col's along \n",
    "col_axis_one=np.stack((arr,arr2),axis=1) # work row's along \n",
    "col_vstack=np.vstack((arr,arr2)) # work row's along \n",
    "stack_merge_arr_arr2=np.hstack((arr,arr2)) # work height's along \n",
    "print(stack_merge_arr_arr2)"
   ]
  },
  {
   "cell_type": "code",
   "execution_count": null,
   "id": "20b117de-f2d9-4581-a68e-0568d8db1a84",
   "metadata": {},
   "outputs": [],
   "source": []
  }
 ],
 "metadata": {
  "kernelspec": {
   "display_name": "Python 3 (ipykernel)",
   "language": "python",
   "name": "python3"
  },
  "language_info": {
   "codemirror_mode": {
    "name": "ipython",
    "version": 3
   },
   "file_extension": ".py",
   "mimetype": "text/x-python",
   "name": "python",
   "nbconvert_exporter": "python",
   "pygments_lexer": "ipython3",
   "version": "3.11.0"
  }
 },
 "nbformat": 4,
 "nbformat_minor": 5
}

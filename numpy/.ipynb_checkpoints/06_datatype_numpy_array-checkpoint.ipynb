{
 "cells": [
  {
   "cell_type": "markdown",
   "id": "b66c25c2-0df9-4bc4-804a-5f440ac3495e",
   "metadata": {},
   "source": [
    "**\n",
    "Data Types in Python\n",
    "By default Python have these data types:\n",
    "\n",
    "strings - used to represent text data, the text is given under quote marks. e.g. \"ABCD\"\n",
    "integer - used to represent integer numbers. e.g. -1, -2, -3\n",
    "float - used to represent real numbers. e.g. 1.2, 42.42\n",
    "boolean - used to represent True or False.\n",
    "complex - used to represent complex numbers. e.g. 1.0 + 2.0j, 1.5 + 2.5j\n",
    "Data Types in NumPy\n",
    "NumPy has some extra data types, and refer to data types with one character, like i for integers, u for unsigned integers etc.\n",
    "\n",
    "Below is a list of all data types in NumPy and the characters used to represent them.\n",
    "\n",
    "i - integer\n",
    "b - boolean\n",
    "u - unsigned integer\n",
    "f - float\n",
    "c - complex float\n",
    "m - timedelta\n",
    "M - datetime\n",
    "O - object\n",
    "S - string\n",
    "U - unicode string\n",
    "V - fixed chunk of memory for other type ( void )\n",
    "**"
   ]
  },
  {
   "cell_type": "code",
   "execution_count": 2,
   "id": "20a54e31-d198-4f93-ae35-a6354b111c66",
   "metadata": {},
   "outputs": [
    {
     "name": "stdout",
     "output_type": "stream",
     "text": [
      "Data Type :  int32\n"
     ]
    }
   ],
   "source": [
    "import numpy as np\n",
    "var=np.array([1,2,3,4])\n",
    "print(\"Data Type : \",var.dtype) "
   ]
  },
  {
   "cell_type": "code",
   "execution_count": 2,
   "id": "b7485f9b-4dd5-4dcb-a67f-70df2a3b3508",
   "metadata": {},
   "outputs": [
    {
     "name": "stdout",
     "output_type": "stream",
     "text": [
      "Data Type :  float64\n"
     ]
    }
   ],
   "source": [
    "var=np.array([1.2,2.0,3,4])\n",
    "print(\"Data Type : \",var.dtype) "
   ]
  },
  {
   "cell_type": "code",
   "execution_count": 3,
   "id": "9bd72816-a357-4835-9b7b-3380ef7006d1",
   "metadata": {},
   "outputs": [
    {
     "name": "stdout",
     "output_type": "stream",
     "text": [
      "Data Type :  <U1\n"
     ]
    }
   ],
   "source": [
    "var=np.array([\"A\",\"B\",\"C\",\"D\"])\n",
    "print(\"Data Type : \",var.dtype) "
   ]
  },
  {
   "cell_type": "code",
   "execution_count": 4,
   "id": "adc98137-709d-401a-ba5f-d04b0adf1189",
   "metadata": {},
   "outputs": [
    {
     "name": "stdout",
     "output_type": "stream",
     "text": [
      "Data Type :  <U11\n"
     ]
    }
   ],
   "source": [
    "var=np.array([\"A\",\"B\",3,4])\n",
    "print(\"Data Type : \",var.dtype) "
   ]
  },
  {
   "cell_type": "code",
   "execution_count": 8,
   "id": "9feefc57-663b-46ee-959b-f9699cefc821",
   "metadata": {},
   "outputs": [
    {
     "name": "stdout",
     "output_type": "stream",
     "text": [
      "Data Type :  int8\n",
      "[1 2 3 4]\n"
     ]
    }
   ],
   "source": [
    "x=np.array([1,2,3,4],dtype=np.int8)\n",
    "print(\"Data Type : \",x.dtype) \n",
    "print(x)"
   ]
  },
  {
   "cell_type": "code",
   "execution_count": 10,
   "id": "c51960d3-da3a-4917-a015-127c16012706",
   "metadata": {},
   "outputs": [
    {
     "name": "stdout",
     "output_type": "stream",
     "text": [
      "Data Type :  float32\n",
      "[1. 2. 3. 4.]\n"
     ]
    }
   ],
   "source": [
    "x1=np.array([1,2,3,4],dtype=\"f\")\n",
    "print(\"Data Type : \",x1.dtype) \n",
    "print(x1)"
   ]
  },
  {
   "cell_type": "code",
   "execution_count": 3,
   "id": "b161998b-6ba6-479c-ac95-52312dccee8d",
   "metadata": {},
   "outputs": [
    {
     "name": "stdout",
     "output_type": "stream",
     "text": [
      "Data Type :  int32\n",
      "Data Type :  float32\n",
      "Data Type :  int32\n",
      "[1 2 3 4]\n",
      "[1. 2. 3. 4.]\n",
      "[1 2 3 4]\n"
     ]
    }
   ],
   "source": [
    "x2=np.array([1,2,3,4])\n",
    "new =np.float32(x2)\n",
    "new2=np.int_(new)\n",
    "\n",
    "print(\"Data Type : \",x2.dtype)\n",
    "print(\"Data Type : \",new.dtype)\n",
    "print(\"Data Type : \",new2.dtype)\n",
    "\n",
    "print(x2)\n",
    "print(new)\n",
    "print(new2)"
   ]
  },
  {
   "cell_type": "code",
   "execution_count": null,
   "id": "5dffab32-58c2-4930-bda4-9a32f0bfcefd",
   "metadata": {},
   "outputs": [],
   "source": []
  }
 ],
 "metadata": {
  "kernelspec": {
   "display_name": "Python 3 (ipykernel)",
   "language": "python",
   "name": "python3"
  },
  "language_info": {
   "codemirror_mode": {
    "name": "ipython",
    "version": 3
   },
   "file_extension": ".py",
   "mimetype": "text/x-python",
   "name": "python",
   "nbconvert_exporter": "python",
   "pygments_lexer": "ipython3",
   "version": "3.11.0"
  }
 },
 "nbformat": 4,
 "nbformat_minor": 5
}

{
 "cells": [
  {
   "cell_type": "markdown",
   "id": "64f8242e-a98b-4ee9-9aed-542dc7b0238b",
   "metadata": {},
   "source": [
    "**rand**"
   ]
  },
  {
   "cell_type": "markdown",
   "id": "f27dfe0f-82fa-4506-ad18-5f2e996795de",
   "metadata": {},
   "source": [
    "import numpy as np\n",
    "var=np.random.rand(4)\n",
    "print(var)"
   ]
  },
  {
   "cell_type": "code",
   "execution_count": 5,
   "id": "2aea5b1d-e5a8-4fa4-a046-2b006cc88c6b",
   "metadata": {},
   "outputs": [
    {
     "name": "stdout",
     "output_type": "stream",
     "text": [
      "[[0.82942445 0.48826788 0.2794191  0.17129031 0.74417183]\n",
      " [0.40739061 0.7547175  0.90689746 0.37607567 0.15003057]\n",
      " [0.19202524 0.28918254 0.60141081 0.05351941 0.1398575 ]]\n"
     ]
    }
   ],
   "source": [
    "var1=np.random.rand(3,5)\n",
    "print(var1)"
   ]
  },
  {
   "cell_type": "markdown",
   "id": "613d7650-ca42-41ef-be93-e2a9b986744a",
   "metadata": {},
   "source": [
    "**randn**"
   ]
  },
  {
   "cell_type": "code",
   "execution_count": 12,
   "id": "f22e9a84-0bee-4329-bcf3-3b51a6368625",
   "metadata": {},
   "outputs": [
    {
     "name": "stdout",
     "output_type": "stream",
     "text": [
      "[[-0.29332524  1.46549802  2.14997505  0.16927298  0.69268535]\n",
      " [-0.92076881  2.57193886  2.2905471  -0.75999486 -0.41523029]]\n"
     ]
    }
   ],
   "source": [
    "var2=np.random.randn(5)\n",
    "print(var3)"
   ]
  },
  {
   "cell_type": "markdown",
   "id": "2b70612d-1d95-48cb-a675-bbf73054f983",
   "metadata": {},
   "source": [
    "**ranf**"
   ]
  },
  {
   "cell_type": "code",
   "execution_count": 13,
   "id": "cb03ede6-a44e-4b99-9899-9e5886f71473",
   "metadata": {},
   "outputs": [
    {
     "name": "stdout",
     "output_type": "stream",
     "text": [
      "[0.0320323  0.63406771 0.85495886 0.15517593 0.11028497]\n"
     ]
    }
   ],
   "source": [
    "var3=np.random.ranf(5)\n",
    "print(var3)"
   ]
  },
  {
   "cell_type": "markdown",
   "id": "3eac3b0e-0e31-4f35-877b-f2aee3a8bd53",
   "metadata": {},
   "source": [
    "**randint**"
   ]
  },
  {
   "cell_type": "code",
   "execution_count": 16,
   "id": "4b7e6594-569f-448e-96a9-d31dc9e976d0",
   "metadata": {},
   "outputs": [
    {
     "name": "stdout",
     "output_type": "stream",
     "text": [
      "[19 14 18 17  7]\n"
     ]
    }
   ],
   "source": [
    "# (min,max,total_value)\n",
    "var4=np.random.randint(5,20,5)\n",
    "print(var4)"
   ]
  },
  {
   "cell_type": "code",
   "execution_count": null,
   "id": "74414194-3433-42a3-a0bf-ce384101ab55",
   "metadata": {},
   "outputs": [],
   "source": []
  }
 ],
 "metadata": {
  "kernelspec": {
   "display_name": "Python 3 (ipykernel)",
   "language": "python",
   "name": "python3"
  },
  "language_info": {
   "codemirror_mode": {
    "name": "ipython",
    "version": 3
   },
   "file_extension": ".py",
   "mimetype": "text/x-python",
   "name": "python",
   "nbconvert_exporter": "python",
   "pygments_lexer": "ipython3",
   "version": "3.11.0"
  }
 },
 "nbformat": 4,
 "nbformat_minor": 5
}

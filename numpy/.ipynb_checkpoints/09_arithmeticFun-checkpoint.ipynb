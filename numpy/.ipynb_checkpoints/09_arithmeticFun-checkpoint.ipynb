{
 "cells": [
  {
   "cell_type": "code",
   "execution_count": 3,
   "id": "9f344fe2-1ff6-4da3-b207-380e8f62c550",
   "metadata": {},
   "outputs": [
    {
     "name": "stdout",
     "output_type": "stream",
     "text": [
      "min :  1 .....index number :  0\n",
      "max :  3 .....index number :  2\n"
     ]
    }
   ],
   "source": [
    "import numpy as np\n",
    "arr=np.array([1,2,3,1])\n",
    "print(\"min : \",np.min(arr),\".....index number : \",np.argmin(arr))\n",
    "print(\"max : \",np.max(arr),\".....index number : \",np.argmax(arr))"
   ]
  },
  {
   "cell_type": "code",
   "execution_count": 7,
   "id": "9f13bed9-141e-4cdb-9a99-fefae3ee1ee3",
   "metadata": {},
   "outputs": [
    {
     "name": "stdout",
     "output_type": "stream",
     "text": [
      "[3 5]\n",
      "[3 4 5 6]\n"
     ]
    }
   ],
   "source": [
    "var1=np.array([[3,4,5,6],[5,7,9,54]])\n",
    "print(np.min(var1,axis=1)) # axis=1 => row wise \n",
    "print(np.min(var1,axis=0)) # axis=0 => col wise"
   ]
  },
  {
   "cell_type": "code",
   "execution_count": null,
   "id": "311c66d4-2389-42a4-83bf-7623c1cd7b3d",
   "metadata": {},
   "outputs": [],
   "source": []
  }
 ],
 "metadata": {
  "kernelspec": {
   "display_name": "Python 3 (ipykernel)",
   "language": "python",
   "name": "python3"
  },
  "language_info": {
   "codemirror_mode": {
    "name": "ipython",
    "version": 3
   },
   "file_extension": ".py",
   "mimetype": "text/x-python",
   "name": "python",
   "nbconvert_exporter": "python",
   "pygments_lexer": "ipython3",
   "version": "3.11.0"
  }
 },
 "nbformat": 4,
 "nbformat_minor": 5
}

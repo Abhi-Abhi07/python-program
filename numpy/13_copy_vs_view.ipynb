{
 "cells": [
  {
   "cell_type": "markdown",
   "id": "9fbb7568-109b-44ca-b31b-fe5230b3c366",
   "metadata": {},
   "source": [
    "**copy vs view**"
   ]
  },
  {
   "cell_type": "code",
   "execution_count": 1,
   "id": "46163eba-5949-4520-b795-9ec26ee199b2",
   "metadata": {},
   "outputs": [
    {
     "name": "stdout",
     "output_type": "stream",
     "text": [
      "arr :  [  1 100   3   4]\n",
      "copy_data :  [1 2 3 4]\n"
     ]
    }
   ],
   "source": [
    "import numpy as np\n",
    "arr=np.array([1,2,3,4])\n",
    "copy_data=arr.copy()\n",
    "arr[1]=100 # does not affect in the copy data\n",
    "print(\"arr : \",arr)\n",
    "print(\"copy_data : \",copy_data)"
   ]
  },
  {
   "cell_type": "code",
   "execution_count": 2,
   "id": "e119523b-9cc4-4e11-acc3-42c0f9cb3713",
   "metadata": {},
   "outputs": [
    {
     "name": "stdout",
     "output_type": "stream",
     "text": [
      "arr2 :  [  4 100   2   5]\n",
      "view_data :  [  4 100   2   5]\n"
     ]
    }
   ],
   "source": [
    "import numpy as np\n",
    "arr2=np.array([4,6,2,5])\n",
    "view_data=arr2.view()\n",
    "arr2[1]=100 # change the view data\n",
    "print(\"arr2 : \",arr2)\n",
    "print(\"view_data : \",view_data)"
   ]
  },
  {
   "cell_type": "code",
   "execution_count": null,
   "id": "4dd63499-255f-41cf-af67-2fb58553957f",
   "metadata": {},
   "outputs": [],
   "source": []
  }
 ],
 "metadata": {
  "kernelspec": {
   "display_name": "Python 3 (ipykernel)",
   "language": "python",
   "name": "python3"
  },
  "language_info": {
   "codemirror_mode": {
    "name": "ipython",
    "version": 3
   },
   "file_extension": ".py",
   "mimetype": "text/x-python",
   "name": "python",
   "nbconvert_exporter": "python",
   "pygments_lexer": "ipython3",
   "version": "3.11.0"
  }
 },
 "nbformat": 4,
 "nbformat_minor": 5
}

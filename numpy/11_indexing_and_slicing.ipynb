{
 "cells": [
  {
   "cell_type": "markdown",
   "id": "ce647ce1-dcec-44f9-8b21-6541d41f90f1",
   "metadata": {},
   "source": [
    "**Indexing**\n"
   ]
  },
  {
   "cell_type": "code",
   "execution_count": 1,
   "id": "4022b9d8-1e3e-470a-a74c-d0f5dc555c96",
   "metadata": {},
   "outputs": [
    {
     "name": "stdout",
     "output_type": "stream",
     "text": [
      "1\n",
      "1\n"
     ]
    }
   ],
   "source": [
    "import numpy as np\n",
    "#          -4,-3,-2,-1\n",
    "#           0, 1, 2, 3\n",
    "x=np.array([1 ,2 ,3 ,4])\n",
    "print(x[0])\n",
    "print(x[-4])"
   ]
  },
  {
   "cell_type": "code",
   "execution_count": 2,
   "id": "e547d514-6919-4c0f-be8b-2491d825e840",
   "metadata": {},
   "outputs": [
    {
     "name": "stdout",
     "output_type": "stream",
     "text": [
      "[1 2 3]\n",
      "[1 2 3]\n",
      "2\n",
      "2\n"
     ]
    }
   ],
   "source": [
    "y=np.array([[1,2,3],[1,2,3]])\n",
    "print(y[0])\n",
    "print(y[-2])\n",
    "print(y[0][-2])\n",
    "print(y[0][1])"
   ]
  },
  {
   "cell_type": "code",
   "execution_count": 3,
   "id": "41457c5d-3e03-465f-ad23-a8f33c86cfbc",
   "metadata": {},
   "outputs": [
    {
     "name": "stdout",
     "output_type": "stream",
     "text": [
      "[[[ 1  2  3]\n",
      "  [ 4  5  6]]\n",
      "\n",
      " [[ 7  8  9]\n",
      "  [10 11 12]]]\n",
      "\n",
      "\n",
      "[[1 2 3]\n",
      " [4 5 6]]\n",
      "[[1 2 3]\n",
      " [4 5 6]]\n",
      "\n",
      "\n",
      "5\n",
      "5\n"
     ]
    }
   ],
   "source": [
    "z=np.array([[[1,2,3],[4,5,6]],[[7,8,9],[10,11,12]]])\n",
    "print(z)\n",
    "print()\n",
    "print()\n",
    "print(z[0])\n",
    "print(z[-2])\n",
    "print()\n",
    "print()\n",
    "print(z[0][1][-2])\n",
    "print(z[-2][-1][1])"
   ]
  },
  {
   "cell_type": "markdown",
   "id": "9a3774d9-7edd-4804-b2b0-3ac6acd28c7f",
   "metadata": {},
   "source": [
    "**slicing**"
   ]
  },
  {
   "cell_type": "code",
   "execution_count": 10,
   "id": "01324493-31f7-48ce-8ad5-46aeffa1776b",
   "metadata": {},
   "outputs": [
    {
     "name": "stdout",
     "output_type": "stream",
     "text": [
      "[ 3  5  7 15  5  7  1  2 54]\n",
      "\n",
      "2 to 5 : [ 5  7 15]\n",
      "2 to End : [ 5  7 15  5  7  1  2 54]\n",
      "Start to 5 : [ 3  5  7 15  5]\n",
      "step :  [ 3  7  5  1 54]\n",
      "step :  [ 3 15]\n"
     ]
    }
   ],
   "source": [
    "a=np.array([3,5,7,15,5,7,1,2,54])\n",
    "print(a)\n",
    "print()\n",
    "print(\"2 to 5 :\",a[1:4])\n",
    "print(\"2 to End :\",a[1:])\n",
    "print(\"Start to 5 :\",a[:5])\n",
    "print(\"step : \",a[::2])\n",
    "print(\"step : \",a[0:5:3])"
   ]
  },
  {
   "cell_type": "code",
   "execution_count": 26,
   "id": "02aa2f46-054d-4121-9bfe-b858f0dcc5d2",
   "metadata": {},
   "outputs": [
    {
     "name": "stdout",
     "output_type": "stream",
     "text": [
      "7 to 10 : [ 7  8  9 10]\n",
      "7 to 9 : [7 8 9]\n",
      "print 15 13 11 : [15 13 11]\n"
     ]
    }
   ],
   "source": [
    "b=np.array([[1,2,3,4,5],[6,7,8,9,10],[11,12,13,14,15]])\n",
    "print(\"7 to 10 :\",b[1,1:])\n",
    "print(\"7 to 9 :\",b[1,1:4])\n",
    "print(\"print 15 13 11 :\",b[-1,-1:-6:-2])"
   ]
  },
  {
   "cell_type": "code",
   "execution_count": null,
   "id": "933bbd95-20be-4482-8e64-6d30d7130c4a",
   "metadata": {},
   "outputs": [],
   "source": []
  }
 ],
 "metadata": {
  "kernelspec": {
   "display_name": "Python 3 (ipykernel)",
   "language": "python",
   "name": "python3"
  },
  "language_info": {
   "codemirror_mode": {
    "name": "ipython",
    "version": 3
   },
   "file_extension": ".py",
   "mimetype": "text/x-python",
   "name": "python",
   "nbconvert_exporter": "python",
   "pygments_lexer": "ipython3",
   "version": "3.11.0"
  }
 },
 "nbformat": 4,
 "nbformat_minor": 5
}

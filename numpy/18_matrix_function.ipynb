{
 "cells": [
  {
   "cell_type": "code",
   "execution_count": 1,
   "id": "09e71e5a-88ea-4f95-8e5e-0fe27ce73cff",
   "metadata": {},
   "outputs": [
    {
     "name": "stdout",
     "output_type": "stream",
     "text": [
      "[[1 2 3]\n",
      " [4 5 6]]\n",
      "T\n",
      "[[1 4]\n",
      " [2 5]\n",
      " [3 6]]\n",
      "\n",
      "[[1 4]\n",
      " [2 5]\n",
      " [3 6]]\n",
      "swapaxes\n",
      "[[1 4]\n",
      " [2 5]\n",
      " [3 6]]\n"
     ]
    }
   ],
   "source": [
    "import numpy as np\n",
    "m=np.matrix([[1,2,3],[4,5,6]])\n",
    "print(m)\n",
    "print(\"T\")\n",
    "print(np.transpose(m))\n",
    "print()\n",
    "print(m.T)\n",
    "print(\"swapaxes\")\n",
    "print(np.swapaxes(m,0,1))"
   ]
  },
  {
   "cell_type": "code",
   "execution_count": 2,
   "id": "233aad98-93dc-4ee9-b484-7d96dc14a7bd",
   "metadata": {},
   "outputs": [
    {
     "name": "stdout",
     "output_type": "stream",
     "text": [
      "[[1 4]\n",
      " [2 5]]\n"
     ]
    }
   ],
   "source": [
    "m2=np.matrix([[1,2],[4,5]])\n",
    "print(np.swapaxes(m2,0,1))"
   ]
  },
  {
   "cell_type": "code",
   "execution_count": 3,
   "id": "e825ea4a-88bf-41f1-8770-3022f2b25fe2",
   "metadata": {},
   "outputs": [
    {
     "name": "stdout",
     "output_type": "stream",
     "text": [
      "[[-1.          0.66666667]\n",
      " [ 1.         -0.33333333]]\n"
     ]
    }
   ],
   "source": [
    "m3=np.matrix([[1,2],[3,3]])\n",
    "print(np.linalg.inv(m3))"
   ]
  },
  {
   "cell_type": "markdown",
   "id": "831be7d5-2ee5-48cc-acd7-1a1814980ea5",
   "metadata": {},
   "source": [
    "**power**"
   ]
  },
  {
   "cell_type": "code",
   "execution_count": 7,
   "id": "afc8fc67-df7f-4b21-87c1-ac549b230688",
   "metadata": {},
   "outputs": [
    {
     "name": "stdout",
     "output_type": "stream",
     "text": [
      "[[-14.75    6.75 ]\n",
      " [ 10.125  -4.625]]\n",
      "[[1 0]\n",
      " [0 1]]\n",
      "[[199 290]\n",
      " [435 634]]\n"
     ]
    }
   ],
   "source": [
    "m4=np.matrix([[1,2],[3,4]])\n",
    "print(\"power<0\")\n",
    "print(np.linalg.matrix_power(m4,-3))\n",
    "print(\"power=0\")\n",
    "print(np.linalg.matrix_power(m4,0))\n",
    "print(\"power>0\")\n",
    "print(np.linalg.matrix_power(m4,4))"
   ]
  },
  {
   "cell_type": "markdown",
   "id": "65f896db-3f86-446d-a75a-b85c3d1fc778",
   "metadata": {},
   "source": [
    "**Deteminate**"
   ]
  },
  {
   "cell_type": "code",
   "execution_count": 10,
   "id": "e13125c9-7282-4838-ba0d-75bf1d51034a",
   "metadata": {},
   "outputs": [
    {
     "name": "stdout",
     "output_type": "stream",
     "text": [
      "0.0\n"
     ]
    }
   ],
   "source": [
    "m5=np.matrix([[1,2,3],[3,4,3],[1,2,3]])\n",
    "print(np.linalg.det(m5))"
   ]
  },
  {
   "cell_type": "code",
   "execution_count": null,
   "id": "f986988b-53dc-4696-91d3-4f829c1b0287",
   "metadata": {},
   "outputs": [],
   "source": []
  }
 ],
 "metadata": {
  "kernelspec": {
   "display_name": "Python 3 (ipykernel)",
   "language": "python",
   "name": "python3"
  },
  "language_info": {
   "codemirror_mode": {
    "name": "ipython",
    "version": 3
   },
   "file_extension": ".py",
   "mimetype": "text/x-python",
   "name": "python",
   "nbconvert_exporter": "python",
   "pygments_lexer": "ipython3",
   "version": "3.11.0"
  }
 },
 "nbformat": 4,
 "nbformat_minor": 5
}

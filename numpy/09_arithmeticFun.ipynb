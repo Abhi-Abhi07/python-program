{
 "cells": [
  {
   "cell_type": "code",
   "execution_count": 1,
   "id": "9f344fe2-1ff6-4da3-b207-380e8f62c550",
   "metadata": {},
   "outputs": [
    {
     "name": "stdout",
     "output_type": "stream",
     "text": [
      "min :  1 .....index number :  0\n",
      "max :  4 .....index number :  4\n",
      "sqrt :  [1.         1.41421356 1.73205081 1.         2.        ]\n",
      "sin value :  [ 0.84147098  0.90929743  0.14112001  0.84147098 -0.7568025 ]\n",
      "cos value :  [ 0.54030231 -0.41614684 -0.9899925   0.54030231 -0.65364362]\n",
      "cumsum :  [ 1  3  6  7 11]\n"
     ]
    }
   ],
   "source": [
    "import numpy as np\n",
    "arr=np.array([1,2,3,1,4])\n",
    "print(\"min : \",np.min(arr),\".....index number : \",np.argmin(arr))\n",
    "print(\"max : \",np.max(arr),\".....index number : \",np.argmax(arr))\n",
    "print(\"sqrt : \",np.sqrt(arr))\n",
    "print(\"sin value : \",np.sin(arr))\n",
    "print(\"cos value : \",np.cos(arr))\n",
    "print(\"cumsum : \",np.cumsum(arr))"
   ]
  },
  {
   "cell_type": "code",
   "execution_count": 2,
   "id": "9f13bed9-141e-4cdb-9a99-fefae3ee1ee3",
   "metadata": {},
   "outputs": [
    {
     "name": "stdout",
     "output_type": "stream",
     "text": [
      "[[ 3  4  5  6]\n",
      " [ 5  7  9 54]]\n",
      "[3 5]\n",
      "\n",
      "[[ 3  4  5  6]\n",
      " [ 5  7  9 54]]\n",
      "[3 4 5 6]\n"
     ]
    }
   ],
   "source": [
    "var1=np.array([[3,4,5,6],[5,7,9,54]])\n",
    "print(var1)\n",
    "print(np.min(var1,axis=1)) # axis=1 => row wise \n",
    "print()\n",
    "print(var1)\n",
    "print(np.min(var1,axis=0)) # axis=0 => col wise"
   ]
  },
  {
   "cell_type": "code",
   "execution_count": null,
   "id": "311c66d4-2389-42a4-83bf-7623c1cd7b3d",
   "metadata": {},
   "outputs": [],
   "source": []
  }
 ],
 "metadata": {
  "kernelspec": {
   "display_name": "Python 3 (ipykernel)",
   "language": "python",
   "name": "python3"
  },
  "language_info": {
   "codemirror_mode": {
    "name": "ipython",
    "version": 3
   },
   "file_extension": ".py",
   "mimetype": "text/x-python",
   "name": "python",
   "nbconvert_exporter": "python",
   "pygments_lexer": "ipython3",
   "version": "3.11.0"
  }
 },
 "nbformat": 4,
 "nbformat_minor": 5
}

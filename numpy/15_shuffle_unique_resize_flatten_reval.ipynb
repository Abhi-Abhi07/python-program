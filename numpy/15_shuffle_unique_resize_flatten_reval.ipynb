{
 "cells": [
  {
   "cell_type": "markdown",
   "id": "58f00794-1486-47bf-bae9-594118b899af",
   "metadata": {},
   "source": [
    "**Shuffle**"
   ]
  },
  {
   "cell_type": "code",
   "execution_count": 1,
   "id": "4dc0d2f7-6762-4b67-b181-44b76f60e119",
   "metadata": {},
   "outputs": [
    {
     "name": "stdout",
     "output_type": "stream",
     "text": [
      "[5 1 3 6 4]\n"
     ]
    }
   ],
   "source": [
    "import numpy as np\n",
    "var=np.array([4,5,6,3,1])\n",
    "np.random.shuffle(var)\n",
    "print(var)"
   ]
  },
  {
   "cell_type": "markdown",
   "id": "89634e79-1580-46cc-b1df-ccdeedc331ca",
   "metadata": {},
   "source": [
    "**unique**"
   ]
  },
  {
   "cell_type": "code",
   "execution_count": 5,
   "id": "511e54f8-4169-4874-aa7b-c272900ec895",
   "metadata": {},
   "outputs": [
    {
     "name": "stdout",
     "output_type": "stream",
     "text": [
      "[ 2  3  4  5  6 34]\n"
     ]
    }
   ],
   "source": [
    "var2=np.array([4,5,2,4,5,6,6,3,34,5,5,34,3])\n",
    "# x=np.unique(var2,return_index=True,return_counts=True)\n",
    "x=np.unique(var2)\n",
    "print(x)"
   ]
  },
  {
   "cell_type": "markdown",
   "id": "3ee0a323-9036-4103-8bce-ee1ff8b492a1",
   "metadata": {},
   "source": [
    "**resize & flatten & reval**"
   ]
  },
  {
   "cell_type": "code",
   "execution_count": 3,
   "id": "96292aae-386e-4f7b-a2c8-a8e555bfecc0",
   "metadata": {},
   "outputs": [
    {
     "name": "stdout",
     "output_type": "stream",
     "text": [
      "[[4 5 6]\n",
      " [3 4 1]]\n",
      "\n",
      "2\n",
      "\n",
      "Flatten\n",
      "[4 5 6 3 4 1]\n",
      "[4 5 6 3 4 1]\n",
      "[4 3 5 4 6 1]\n",
      "[4 5 6 3 4 1]\n",
      "[4 5 6 3 4 1]\n",
      "Reval\n",
      "[4 5 6 3 4 1]\n"
     ]
    }
   ],
   "source": [
    "var3=np.array([4,5,6,3,4,1])\n",
    "y=np.resize(var3,(2,3))\n",
    "print(y)\n",
    "print()\n",
    "print(y.ndim)\n",
    "print()\n",
    "print(\"Flatten\")\n",
    "print(y.flatten()) # by default is C\n",
    "print(y.flatten(order='C')) # 'C' means to flatten in row-major (C-style) order\n",
    "print(y.flatten(order='F')) # 'F' means to flatten in column-major (Forten-style) order\n",
    "print(y.flatten(order='A')) # 'A' means to flatten in column-major order if `a` is Forten *contiguous* in memory, row -major order otherwise.\n",
    "print(y.flatten(order='K')) # 'K' means to flatte `a` in order the elements occur in memory\n",
    "print(\"Reval\")\n",
    "print(np.ravel(y,order='A'))"
   ]
  },
  {
   "cell_type": "code",
   "execution_count": 4,
   "id": "8314952d-d0dc-4061-a228-49922c945713",
   "metadata": {},
   "outputs": [],
   "source": [
    "var4=np.array([[4,5,2],[4,5,6],[6,3,34],[5,5,34]])\n"
   ]
  }
 ],
 "metadata": {
  "kernelspec": {
   "display_name": "Python 3 (ipykernel)",
   "language": "python",
   "name": "python3"
  },
  "language_info": {
   "codemirror_mode": {
    "name": "ipython",
    "version": 3
   },
   "file_extension": ".py",
   "mimetype": "text/x-python",
   "name": "python",
   "nbconvert_exporter": "python",
   "pygments_lexer": "ipython3",
   "version": "3.11.0"
  }
 },
 "nbformat": 4,
 "nbformat_minor": 5
}
